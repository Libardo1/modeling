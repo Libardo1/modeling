{
 "cells": [
  {
   "cell_type": "markdown",
   "metadata": {},
   "source": [
    "IN PROGRESS\n",
    "========\n",
    "* RETRAINING USING A BALANCED SET.  For each annotator, compute precent correct for each preposition.  Compare to model performance.\n",
    " * If ranking of preposition difficulty for humans differs from that of the model, include correlation of F1 and train N in paper as a possible explanation for the difference.\n",
    " * If ranking of preposition difficulty for humans differs from that of the model, downsample the overrepresented classes in the training set so it's balanced, and retrain.  I'm not sure this would change the results, but that's OK.  The submission deadline is in January, it only takes a week to train the model, and the analysis is repeatable, so completing this task essentially only requires (1) the initial downsampling and (2) the opportunity cost of *not* being able to train some other model at the same time.\n",
    " * Create a task-specific notebook just for running the sensitivity analysis.  This must run on a machine with a GPU.\n",
    "* Re-run the feature evaluation models using balanced data.\n",
    " * Use a much lower capacity model and 1m sentences for training.\n",
    " * Do cross-validation over filter_width [2, 3, 4, 5], n_filters [10, 100, 1000], and feature sets [X], [Xwindow?] (for ? in 5,7,9), [Xwindow?NULL] (for ? in 5,7,9), [Xwindow? X] (for ? in 5,7,9), and [Xwindow?NULL X] (for ? in 5,7,9).\n",
    "\n",
    "TODO\n",
    "-------------\n",
    "* Re-start the LSTM model with balanced data (later).\n",
    "* Train a convolutional model using just the window (without replacing the preposition with the nonce).  Save the weights of the model every epoch.  Plot, over epochs, \n",
    " * The number of principal components necessary to explain 95% of the variance (it should increase over time).\n",
    " * Box plots of all-pairs cosine similarity (they should decrease over time).\n",
    "* Paper:\n",
    " * Add table of examples showing where humans disagree with the corpus (but the model agrees with the corpus), where the model disagrees with the corpus (but the human agrees with the corpus), and where the model and the human agree with one another (and they both disagree with the corpus).\n",
    " * Send first draft to Peter, Mark, Kyle, and Lakshmi.\n",
    " * Send first revision to Jim and Martha.\n",
    " * Send third revision to Jordan.\n",
    "* Human annotations\n",
    " * Report inter-rater reliability as a matrix of Cohen's Kappa.\n",
    " * Show examples where humans disagree with corpus.\n",
    "\n",
    "DONE\n",
    "-----------\n",
    "* Add verbose=False option to modeling.utils.load_model.\n",
    "* Make script to read HDF5 file of data, get predictions and probabilities for the data from some model, add the predictions and probabilities to the in-memory HDF5 file, and write the HDF5 file to disc somewhere new.\n",
    "* Write function to merge human judgements into a single data frame:\n",
    " * Make a separate data frame of sent_id, sentence.\n",
    " * Make the corpus an annotator of its own.\n",
    " * Make the model an annotator of its own.\n",
    " * One row per judgment (sent_id, annotator_id, ...).\n",
    " * Improving detection and correction (Will not do.  Precision-recall curves are sufficient).\n",
    "   * Write functions to filter out sentences based on different criteria:\n",
    "   * Sentence length\n",
    "   * Number of unknown words\n",
    "   * Whether the probability of the most probable class exceeds some threshold\n",
    "* Week of November 16:\n",
    " * Friday\n",
    "   * Change annotator confidence histograms so bars are the same height across the x axis.\n",
    "* Week of 23:\n",
    "  * Monday\n",
    "   * Modify this notebook to load the HDF5 files containing probabilities/predictions.  I should be able to run the analysis in this notebook on a machine that doesn't have a GPU (e.g. my laptop).\n",
    "   * Change `load_predict_save` to put predictions and probabilities in separate file named DATA_FILE-MODEL_UUID.h5 and the model configuration in a file named DATA_FILE-MODEL_UUID.json.\n",
    "   * Change the train, validation, and test sets to be balanced.  Start retraining a convnet using the balanced data.\n",
    "   * Add option to train_keras.py to ignore the weights in the target-data.json file so as to avoid bias when training with the balanced version of the data.\n",
    "  * Tuesday\n",
    "   * Write function and tests to add a window of k words (with and without nonce) to an .h5 file."
   ]
  },
  {
   "cell_type": "code",
   "execution_count": 1,
   "metadata": {
    "collapsed": false
   },
   "outputs": [],
   "source": [
    "%matplotlib inline\n",
    "import matplotlib\n",
    "import matplotlib.pyplot as plt\n",
    "\n",
    "# Use Times New Roman for NAACL. \n",
    "font = {'family' : 'serif',\n",
    "        'serif': 'Times New Roman',\n",
    "        'size'   : 12,\n",
    "       }\n",
    "plt.rc('font', **font)\n",
    "\n",
    "text = {\n",
    "        'latex.unicode': True,\n",
    "        'latex.preamble': r\"\\usepackage{times}\"\n",
    "        }\n",
    "plt.rc('text', **text)"
   ]
  },
  {
   "cell_type": "code",
   "execution_count": 2,
   "metadata": {
    "collapsed": true
   },
   "outputs": [],
   "source": [
    "import numpy as np\n",
    "np.set_printoptions(precision=3)\n",
    "np.set_printoptions(suppress=True)"
   ]
  },
  {
   "cell_type": "code",
   "execution_count": 3,
   "metadata": {
    "collapsed": true
   },
   "outputs": [],
   "source": [
    "import itertools\n",
    "\n",
    "def powerset(iterable):\n",
    "    s = list(iterable)\n",
    "    return itertools.chain.from_iterable(\n",
    "            itertools.combinations(s, r) for r in range(len(s)+1))\n",
    "\n",
    "linestyle = itertools.cycle(['-', '--', '-.', ':'])"
   ]
  },
  {
   "cell_type": "code",
   "execution_count": 4,
   "metadata": {
    "collapsed": false
   },
   "outputs": [],
   "source": [
    "import shutil\n",
    "import os\n",
    "import json\n",
    "import h5py\n",
    "\n",
    "import pandas as pd\n",
    "\n",
    "from sklearn.metrics import (confusion_matrix,\n",
    "        fbeta_score, cohen_kappa_score,\n",
    "        precision_recall_fscore_support, precision_recall_curve)\n",
    "from sklearn.dummy import DummyClassifier\n",
    "\n",
    "import modeling.utils"
   ]
  },
  {
   "cell_type": "code",
   "execution_count": 5,
   "metadata": {
    "collapsed": false
   },
   "outputs": [],
   "source": [
    "# For scikit learn metrics.\n",
    "weighting = 'macro'"
   ]
  },
  {
   "cell_type": "code",
   "execution_count": 6,
   "metadata": {
    "collapsed": true
   },
   "outputs": [],
   "source": [
    "# model_dir = 'models/keras/preposition/convnet/4e0ae5dc683611e5950afcaa149e39ea'\n",
    "# model_dir = 'models/keras/preposition/convnet/7a87f8e870f111e5950afcaa149e39ea'\n",
    "# model_dir = 'models/keras/preposition/convnet/6cd818a886af11e59052fcaa149e39ea/'\n",
    "\n",
    "# Accidentally terminated, but it was progressing nicely.\n",
    "#model_dir = 'models/keras/preposition/convnet/7040fefc88c011e5b2b374d435ed6f3a/'\n",
    "\n",
    "# Best so far, but imbalanced.\n",
    "# model_dir = 'models/keras/preposition/convnet/20a7a6b088ee11e5b2b374d435ed6f3a/'\n",
    "\n",
    "# Balanced.\n",
    "# model_dir = 'models/keras/preposition/convnet/balanced/'\n",
    "\n",
    "# Load the test set for evaluation.\n",
    "# data_file = 'data/preposition/prepositions-all-new-test.h5'"
   ]
  },
  {
   "cell_type": "code",
   "execution_count": 7,
   "metadata": {
    "collapsed": false
   },
   "outputs": [],
   "source": [
    "# To generate the data file used by this notebook, run the following on a machine with a GPU.\n",
    "# Set the model directory.\n",
    "#model_dir = 'models/keras/prepositions/convnet/20a7a6b088ee11e5b2b374d435ed6f3a/'\n",
    "# Set the data file.\n",
    "# data_file = 'data/preposition/prepositions-all-new-test.h5'\n",
    "# Load the model, get predictions, and save output.\n",
    "#modeling.utils.load_predict_save(model_dir, data_file)\n",
    "# model, model_cfg = modeling.utils.load_model(model_dir, load_weights=True)"
   ]
  },
  {
   "cell_type": "code",
   "execution_count": 8,
   "metadata": {
    "collapsed": false
   },
   "outputs": [],
   "source": [
    "model_id = '20a7a6b088ee11e5b2b374d435ed6f3a'\n",
    "basename = 'data/preposition/prepositions-all-new'\n",
    "qualifier = '-test'"
   ]
  },
  {
   "cell_type": "code",
   "execution_count": 9,
   "metadata": {
    "collapsed": false
   },
   "outputs": [],
   "source": [
    "# Load model predictions and softmax probabilities.\n",
    "pred_file = basename + qualifier + '-' + model_id + '-pred.h5'\n",
    "f = h5py.File(pred_file, 'r')\n",
    "preds = f['pred'].value\n",
    "probs = f['prob'].value\n",
    "f.close()"
   ]
  },
  {
   "cell_type": "code",
   "execution_count": 10,
   "metadata": {
    "collapsed": false
   },
   "outputs": [],
   "source": [
    "# Load model configuration (i.e. hyperparameters and other settings).\n",
    "model_json_file = basename + qualifier + '-' + model_id + '-cfg.json'\n",
    "model_json = json.load(open(model_json_file))\n",
    "model_cfg = modeling.utils.ModelConfig(**model_json)"
   ]
  },
  {
   "cell_type": "code",
   "execution_count": 11,
   "metadata": {
    "collapsed": false
   },
   "outputs": [],
   "source": [
    "# Load target data or metadata (e.g. mapping between numeric target variable and preposition).\n",
    "target_data_file = basename + '-target-data.json'\n",
    "target_data = json.load(open(target_data_file))"
   ]
  },
  {
   "cell_type": "code",
   "execution_count": 12,
   "metadata": {
    "collapsed": false
   },
   "outputs": [
    {
     "name": "stdout",
     "output_type": "stream",
     "text": [
      "[(999552, 5), (999552, 52)]\n"
     ]
    }
   ],
   "source": [
    "# Load targets (multiclass, binary), examples (e.g. windows around a preposition, the entire sentence),\n",
    "# and other data about the inputs (e.g. the length of each sentence).\n",
    "data_file = basename + qualifier + '.h5'\n",
    "model_data = modeling.utils.load_all_model_data(data_file, model_cfg)"
   ]
  },
  {
   "cell_type": "code",
   "execution_count": 13,
   "metadata": {
    "collapsed": false
   },
   "outputs": [],
   "source": [
    "evens = np.arange(0, len(preds), 2)\n",
    "odds = evens + 1"
   ]
  },
  {
   "cell_type": "code",
   "execution_count": 14,
   "metadata": {
    "collapsed": false
   },
   "outputs": [],
   "source": [
    "dummy_prior = DummyClassifier(strategy='prior', random_state=17)\n",
    "dummy_prior.fit(model_data.data, model_data.target)\n",
    "preds_prior = dummy_prior.predict(model_data.data)\n",
    "probs_prior = dummy_prior.predict_proba(model_data.data)\n",
    "\n",
    "dummy_uniform = DummyClassifier(strategy='uniform', random_state=17)\n",
    "dummy_uniform.fit(model_data.data, model_data.target)\n",
    "preds_uniform = dummy_uniform.predict(model_data.data)\n",
    "probs_uniform = dummy_uniform.predict_proba(model_data.data)"
   ]
  },
  {
   "cell_type": "markdown",
   "metadata": {},
   "source": [
    "Error judgments from annotators\n",
    "======="
   ]
  },
  {
   "cell_type": "code",
   "execution_count": 15,
   "metadata": {
    "collapsed": false,
    "scrolled": false
   },
   "outputs": [],
   "source": [
    "annotator_data_dir = os.environ['HOME'] + '/proj/dissertation/projects/cnn/data/preposition/annotations/'\n",
    "annotator1_csv = annotator_data_dir + 'annotator01-results.csv'\n",
    "annotator2_csv = annotator_data_dir + 'annotator02-results.csv'\n",
    "annotator3_csv = annotator_data_dir + 'annotator03-results.csv'\n",
    "annotator4_csv = annotator_data_dir + 'annotator04-results.csv'\n",
    "\n",
    "corpus_annotator_id = 5\n",
    "model_annotator_id = 6\n",
    "\n",
    "def normalize_annotator_columns(annotator_df):\n",
    "    \"\"\"\n",
    "    Rename columns of a data frame of annotator judgements.\n",
    "    \n",
    "    Parameters\n",
    "    ----------\n",
    "    annotator_df: pandas.DataFrame\n",
    "        A data frame of annotator judgements.\n",
    "    \n",
    "    Returns\n",
    "    ----------\n",
    "    new_df: pandas.DataFrame\n",
    "        A data frame containing the same data with columns renamed as follows:\n",
    "          'Sentence id'         => 'sent_id'\n",
    "          'Sentence'            => 'sentence'\n",
    "          'Correct Preposition' => 'correct_preposition'\n",
    "          'Confidence'          => 'confidence'\n",
    "          'Sentence Quality'    => 'sent_quality'\n",
    "    \"\"\"\n",
    "    rename_columns = {\n",
    "            'Sentence id': 'sent_id',\n",
    "            'Sentence': 'sentence',\n",
    "            'Correct Preposition': 'correct_preposition',\n",
    "            'Confidence': 'confidence',\n",
    "            'Sentence Quality': 'sent_quality'\n",
    "            }\n",
    "    \n",
    "    new_df = annotator_df.copy()\n",
    "    \n",
    "    for (old_column, new_column) in rename_columns.items():\n",
    "        new_df[new_column] = new_df[old_column]\n",
    "        del new_df[old_column]\n",
    "        \n",
    "    return new_df\n",
    "\n",
    "def load_annotator_df(annotator_csv):\n",
    "    \"\"\"\n",
    "    Load a data frame of annotator judgments.\n",
    "    \n",
    "    Parameters\n",
    "    ----------\n",
    "    annotator_csv : str\n",
    "        Path to a .csv file containing annotator judgments.\n",
    "    \n",
    "    Returns\n",
    "    -----------\n",
    "    df : pandas.DataFrame\n",
    "        A data frame of annotator judgments with normalized column names.\n",
    "    \"\"\"\n",
    "    annotator_df = pd.read_csv(annotator_csv, sep='\\t')\n",
    "    annotator_df = normalize_annotator_columns(annotator_df.ix[:, 0:5])\n",
    "    return annotator_df.sort('sent_id')\n",
    "\n",
    "def sent_is_modified(sent_ids):\n",
    "    return sent_ids > 30600000\n",
    "\n",
    "def get_model_data_indices(annotator_df):\n",
    "    \"\"\"\n",
    "    Because of how I sampled the sentences for the humans to annotate, the sentences\n",
    "    in the annotator's data set with IDs < 30600000 are (presumably) error free, and\n",
    "    those with IDs > 30600000 contain a preposition error.  For each sentence ID in\n",
    "    the annotator's data set, I need to find the indices of the two positions in the\n",
    "    test set used by the model, and select the first of the two indices (the one at\n",
    "    an even-numbered index) if the sentence ID < 30600000 and use select the second\n",
    "    of the two if the sentence ID > 30600000.\n",
    "    \n",
    "    Parameters\n",
    "    --------\n",
    "    annotator_df : pandas.DataFrame\n",
    "        A data frame of annotator judgments.\n",
    "        \n",
    "    Returns\n",
    "    ---------\n",
    "    sent_id : list\n",
    "        A list of indices for subscripting data loaded using `load_all_model_data`.\n",
    "    \"\"\"\n",
    "    sent_ids = annotator_df['sent_id'].values\n",
    "    annotator_evens = set(sent_ids[~sent_is_modified(sent_ids)])\n",
    "    annotator_odds = set(sent_ids[sent_is_modified(sent_ids)])\n",
    "    \n",
    "    sent_idx = []\n",
    "\n",
    "    for idx,sent_id in enumerate(model_data.sent_id):\n",
    "        if idx % 2 == 0:\n",
    "            if sent_id in annotator_evens:\n",
    "                sent_idx.append(idx)\n",
    "        elif sent_id in annotator_odds:\n",
    "            sent_idx.append(idx)\n",
    "            \n",
    "    return sent_idx\n",
    "\n",
    "def build_annotator(annotator_csv, target_data, annotator_id):\n",
    "    df = load_annotator_df(annotator_csv)\n",
    "    df['correct_preposition_code'] = [target_data['original_word_code']['names'].index(word)\n",
    "                                 for word in df['correct_preposition']]\n",
    "    df['annotator_id'] = annotator_id\n",
    "    df['probability'] = None\n",
    "    return df\n",
    "\n",
    "def build_corpus_annotator(annotator_df, target_data, model_data, annotator_id=corpus_annotator_id):\n",
    "    sent_idx = get_model_data_indices(annotator_df)\n",
    "    sent_ids = sorted(np.unique(annotator_df.sent_id))\n",
    "    \n",
    "    df = pd.DataFrame({\n",
    "            'sent_id': sent_ids,\n",
    "            'annotator_id': [annotator_id] * len(sent_idx),\n",
    "            'correct_preposition_code': model_data.target[sent_idx],\n",
    "            'correct_preposition': [target_data['original_word_code']['names'][word]\n",
    "                            for word in model_data.target[sent_idx]],\n",
    "            'confidence': [None] * len(sent_idx),\n",
    "            'sent_quality': [None] * len(sent_idx),\n",
    "            'probability': [None] * len(sent_idx)\n",
    "            })\n",
    "    \n",
    "    #print('corpus annotator', df.shape)\n",
    "    \n",
    "    return df\n",
    "    \n",
    "def build_model_annotator(annotator_df, target_data, preds, probs, annotator_id=model_annotator_id):\n",
    "    sent_idx = get_model_data_indices(annotator_df)\n",
    "    sent_ids = sorted(np.unique(annotator_df.sent_id))\n",
    "    \n",
    "    df = pd.DataFrame({\n",
    "            'sent_id': sent_ids,\n",
    "            'annotator_id': [annotator_id] * len(sent_ids),\n",
    "            'correct_preposition_code': preds[sent_idx],\n",
    "            'correct_preposition': [target_data['original_word_code']['names'][word]\n",
    "                        for word in preds[sent_idx]],\n",
    "            'confidence': [None] * len(sent_idx),\n",
    "            'sent_quality': [None] * len(sent_idx),\n",
    "            'probability': np.max(probs[sent_idx], axis=1)\n",
    "        })\n",
    "    \n",
    "    #print('model annotator', df.shape)\n",
    "                      \n",
    "    return df\n",
    "\n",
    "def build_kappa_comparator(column='correct_preposition'):\n",
    "    def compute_kappa(df1, df2):\n",
    "        return cohen_kappa_score(df1[column], df2[column])\n",
    "    return compute_kappa\n",
    "\n",
    "def build_annotators_df():\n",
    "    annotator1_df = build_annotator(annotator1_csv, target_data, annotator_id=1)\n",
    "    annotator2_df = build_annotator(annotator2_csv, target_data, annotator_id=2)\n",
    "    annotator3_df = build_annotator(annotator3_csv, target_data, annotator_id=3)\n",
    "    annotator4_df = build_annotator(annotator4_csv, target_data, annotator_id=4)\n",
    "    \n",
    "    annotator_df = pd.concat([annotator1_df, annotator2_df, annotator3_df, annotator4_df])\n",
    "    sent_df = annotator_df[['sent_id', 'sentence']]\n",
    "    del annotator_df['sentence']\n",
    "    columns = sorted(annotator_df.columns)\n",
    "    annotator_df = annotator_df[columns]\n",
    "\n",
    "    corpus_df = build_corpus_annotator(annotator_df, target_data, model_data)[columns]\n",
    "    model_df = build_model_annotator(annotator_df, target_data, preds, probs)[columns]\n",
    "\n",
    "    df = pd.concat([annotator_df, corpus_df, model_df])\n",
    "    df.sort('sent_id', inplace=True)\n",
    "    \n",
    "    sent_df.drop_duplicates(subset=['sent_id'], inplace=True)\n",
    "    sent_df.sort('sent_id', inplace=True)\n",
    "    \n",
    "    return df, sent_df"
   ]
  },
  {
   "cell_type": "code",
   "execution_count": 66,
   "metadata": {
    "collapsed": false,
    "scrolled": false
   },
   "outputs": [
    {
     "name": "stdout",
     "output_type": "stream",
     "text": [
      "annotator 2           1           2           3           4       corpus  \\\n",
      "annotator 1                                                                \n",
      "1                     .  0.83 (177)  0.72 (155)  0.70 (175)   0.78 (507)   \n",
      "2            0.83 (177)           .  0.79 (163)  0.79 (179)   0.83 (519)   \n",
      "3            0.72 (155)  0.79 (163)           .  0.77 (151)   0.80 (469)   \n",
      "4            0.70 (175)  0.79 (179)  0.77 (151)           .   0.79 (505)   \n",
      "corpus       0.78 (507)  0.83 (519)  0.80 (469)  0.79 (505)            .   \n",
      "model        0.75 (507)  0.78 (519)  0.76 (469)  0.75 (505)  0.83 (1000)   \n",
      "\n",
      "annotator 2        model  \n",
      "annotator 1               \n",
      "1             0.75 (507)  \n",
      "2             0.78 (519)  \n",
      "3             0.76 (469)  \n",
      "4             0.75 (505)  \n",
      "corpus       0.83 (1000)  \n",
      "model                  .  \n",
      "\n",
      "\\begin{tabular}{lllllll}\n",
      "\\toprule\n",
      "annotator 2 &           1 &           2 &           3 &           4 &       corpus &        model \\\\\n",
      "\\midrule\n",
      "annotator 1 &             &             &             &             &              &              \\\\\n",
      "1           &           . &  0.83 (177) &  0.72 (155) &  0.70 (175) &   0.78 (507) &   0.75 (507) \\\\\n",
      "2           &  0.83 (177) &           . &  0.79 (163) &  0.79 (179) &   0.83 (519) &   0.78 (519) \\\\\n",
      "3           &  0.72 (155) &  0.79 (163) &           . &  0.77 (151) &   0.80 (469) &   0.76 (469) \\\\\n",
      "4           &  0.70 (175) &  0.79 (179) &  0.77 (151) &           . &   0.79 (505) &   0.75 (505) \\\\\n",
      "corpus      &  0.78 (507) &  0.83 (519) &  0.80 (469) &  0.79 (505) &            . &  0.83 (1000) \\\\\n",
      "model       &  0.75 (507) &  0.78 (519) &  0.76 (469) &  0.75 (505) &  0.83 (1000) &            . \\\\\n",
      "\\bottomrule\n",
      "\\end{tabular}\n",
      "\n"
     ]
    }
   ],
   "source": [
    "annotator_names = {\n",
    "    1: '1',\n",
    "    2: '2',\n",
    "    3: '3',\n",
    "    4: '4',\n",
    "    corpus_annotator_id: 'corpus',\n",
    "    model_annotator_id: 'model'\n",
    "}\n",
    "\n",
    "def compare_annotators(df, id1, id2, comparator):\n",
    "    df1 = df[df.annotator_id == id1]\n",
    "    df2 = df[df.annotator_id == id2]\n",
    "    df2 = df2[df2.sent_id.isin(df1.sent_id)]\n",
    "    df1 = df1[df1.sent_id.isin(df2.sent_id)]\n",
    "    return comparator(df1, df2), len(df1)\n",
    "    \n",
    "def compute_annotator_kappas():\n",
    "    df, _ = build_annotators_df()\n",
    "    \n",
    "    annotator1 = []\n",
    "    annotator2 = []\n",
    "    values = []\n",
    "    ns = []\n",
    "    kns = []\n",
    "    \n",
    "    comparator = build_kappa_comparator()\n",
    "    pairs = itertools.combinations(annotator_names.keys(), 2)\n",
    "    \n",
    "    for pair in pairs:\n",
    "        kappa, n = compare_annotators(df, pair[0], pair[1], comparator)\n",
    "        names = [annotator_names[i] for i in pair]\n",
    "        annotator1.extend(names)\n",
    "        annotator2.extend(reversed(names))\n",
    "        values.extend([kappa, kappa])\n",
    "        ns.extend([n, n])\n",
    "        kn = '{kappa:.2f} ({n})'.format(kappa=kappa, n=n)\n",
    "        kns.extend([kn, kn])\n",
    "        \n",
    "    df_kappa = pd.DataFrame({\n",
    "            'annotator 1': annotator1,\n",
    "            'annotator 2': annotator2,\n",
    "            'kappa': values,\n",
    "            'n': ns,\n",
    "            'kappan': kns\n",
    "            })\n",
    "    \n",
    "    return df_kappa\n",
    "    \n",
    "df_kappa = compute_annotator_kappas()\n",
    "\n",
    "df_kappa_pivot = df_kappa.pivot(index='annotator 1', columns='annotator 2', values='kappan')\n",
    "np.fill_diagonal(df_kappa_pivot.values, '.')\n",
    "\n",
    "print(df_kappa_pivot)\n",
    "print('')\n",
    "print(df_kappa_pivot.to_latex(float_format=lambda f: '%.02f' % f))"
   ]
  },
  {
   "cell_type": "code",
   "execution_count": 17,
   "metadata": {
    "collapsed": false
   },
   "outputs": [
    {
     "name": "stderr",
     "output_type": "stream",
     "text": [
      "/Users/ndronen/miniconda/lib/python2.7/site-packages/pandas/core/frame.py:2915: SettingWithCopyWarning: \n",
      "A value is trying to be set on a copy of a slice from a DataFrame\n",
      "\n",
      "See the the caveats in the documentation: http://pandas.pydata.org/pandas-docs/stable/indexing.html#indexing-view-versus-copy\n",
      "  inplace=inplace, kind=kind, na_position=na_position)\n"
     ]
    }
   ],
   "source": [
    "def precision_recall_per_annotator():\n",
    "    df, _ = build_annotators_df()\n",
    "    \n",
    "    precision = []\n",
    "    recall = []\n",
    "    f1 = []\n",
    "    support = []\n",
    "    preposition = []\n",
    "    annotator = []\n",
    "    \n",
    "    for annotator_id in [1, 2, 3, 4, model_annotator_id]:\n",
    "        # Get a data frame for just this annotator.\n",
    "        annotator_df = df[df.annotator_id == annotator_id]\n",
    "        \n",
    "        # Get a data frame for the corpus itself.\n",
    "        corpus_df = df[df.annotator_id == corpus_annotator_id].copy()\n",
    "        \n",
    "        # Retain only those rows in the corpus data frame for which the\n",
    "        # given annotator provided a judgment.\n",
    "        corpus_df = corpus_df[corpus_df.sent_id.isin(annotator_df.sent_id)]\n",
    "\n",
    "        # Sort both data frames.\n",
    "        annotator_df.sort('sent_id', inplace=True)\n",
    "        corpus_df.sort('sent_id', inplace=True)\n",
    "        \n",
    "        p, r, f, s = precision_recall_fscore_support(\n",
    "                corpus_df.correct_preposition,\n",
    "                annotator_df.correct_preposition)\n",
    "        \n",
    "        precision.extend(p)\n",
    "        recall.extend(r)\n",
    "        f1.extend(f)\n",
    "        support.extend(s)\n",
    "        annotator.extend([annotator_id] * len(s))\n",
    "        preposition.extend(target_data['original_word_code']['names'])\n",
    "        \n",
    "    return pd.DataFrame({\n",
    "            'Precision': precision,\n",
    "            'Recall': recall,\n",
    "            'F1': f1,\n",
    "            'N': support,\n",
    "            'Preposition': preposition,\n",
    "            'Annotator': annotator\n",
    "        })\n",
    "\n",
    "def metric_rank_correlation(df, annotator1_id, annotator2_id, metric):\n",
    "    import scipy.stats\n",
    "    df = df.sort(['Annotator', 'Preposition'])\n",
    "    return scipy.stats.spearmanr(\n",
    "        df[df.Annotator == annotator1_id][metric],\n",
    "        df[df.Annotator == annotator2_id][metric])\n",
    "\n",
    "def annotator_metric_rank_correlation(pr_per_annotator_df, metric='F1'):\n",
    "    df = pr_per_annotator_df.copy()\n",
    "    df.sort(['Annotator', 'Preposition'], inplace=True)\n",
    "    pairs = itertools.combinations(df.Annotator.unique(), 2)\n",
    "    \n",
    "    ranks = []\n",
    "    ps = []\n",
    "    annotator1 = []\n",
    "    annotator2 = []\n",
    "    \n",
    "    for pair in pairs:\n",
    "        rank, p = metric_rank_correlation(df, pair[0], pair[1], metric=metric)\n",
    "        ranks.extend([rank, rank])\n",
    "        ps.extend([p, p])\n",
    "        names = [annotator_names[i] for i in pair]\n",
    "        annotator1.extend(names)\n",
    "        annotator2.extend(reversed(names))\n",
    "        \n",
    "    return pd.DataFrame({\n",
    "            'Rank': ranks,\n",
    "            'P': ps,\n",
    "            'Annotator 1': annotator1,\n",
    "            'Annotator 2': annotator2\n",
    "            \n",
    "        })\n",
    "\n",
    "pr_per_annotator_df = precision_recall_per_annotator()\n",
    "pr_per_annotator_df = pr_per_annotator_df.sort(['Annotator', 'F1'])[['Annotator', 'N', 'Preposition', 'F1', 'Precision', 'Recall']]\n",
    "#pr_per_annotator_df"
   ]
  },
  {
   "cell_type": "code",
   "execution_count": 18,
   "metadata": {
    "collapsed": false
   },
   "outputs": [],
   "source": [
    "def plot_annotator_f1_vs_model(pr_per_annotator_df):\n",
    "    df = pr_per_annotator_df.sort('Preposition')\n",
    "    \n",
    "    df_model = pr_per_annotator_df[df.Annotator == model_annotator_id]\n",
    "    df_model.sort('Preposition')\n",
    "    \n",
    "    colors = ['red', 'blue', 'green']\n",
    "    markers = ['o', 's', '*']\n",
    "    plt.figure(figsize=(9,6))\n",
    "    \n",
    "    for i, annotator_id in enumerate([1, 2, 3]):\n",
    "        df_annotator = pr_per_annotator_df[df.Annotator == annotator_id]\n",
    "        df_annotator = df_annotator.sort('Preposition')\n",
    "        plt.scatter(df_model.F1, df_annotator.F1,\n",
    "                    label=str(annotator_id), c=colors[i],\n",
    "                    marker=markers[i], s=60)\n",
    "                    # linewidth=2)\n",
    "    plt.xlabel('Model F1')\n",
    "    plt.ylabel('Annotator F1')\n",
    "    plt.xlim(0.71, 1)\n",
    "    plt.ylim(0.71, 1)\n",
    "    plt.legend(loc='lower right')\n",
    "    \n",
    "#plot_annotator_f1_vs_model(pr_per_annotator_df)"
   ]
  },
  {
   "cell_type": "code",
   "execution_count": 19,
   "metadata": {
    "collapsed": false
   },
   "outputs": [
    {
     "data": {
      "text/html": [
       "<div>\n",
       "<table border=\"1\" class=\"dataframe\">\n",
       "  <thead>\n",
       "    <tr style=\"text-align: right;\">\n",
       "      <th></th>\n",
       "      <th>Annotator 1</th>\n",
       "      <th>Annotator 2</th>\n",
       "      <th>P</th>\n",
       "      <th>Rank</th>\n",
       "    </tr>\n",
       "  </thead>\n",
       "  <tbody>\n",
       "    <tr>\n",
       "      <th>6</th>\n",
       "      <td>1</td>\n",
       "      <td>model</td>\n",
       "      <td>0.224216</td>\n",
       "      <td>0.450000</td>\n",
       "    </tr>\n",
       "    <tr>\n",
       "      <th>12</th>\n",
       "      <td>2</td>\n",
       "      <td>model</td>\n",
       "      <td>0.035770</td>\n",
       "      <td>0.700000</td>\n",
       "    </tr>\n",
       "    <tr>\n",
       "      <th>16</th>\n",
       "      <td>3</td>\n",
       "      <td>model</td>\n",
       "      <td>0.029818</td>\n",
       "      <td>0.716667</td>\n",
       "    </tr>\n",
       "    <tr>\n",
       "      <th>18</th>\n",
       "      <td>4</td>\n",
       "      <td>model</td>\n",
       "      <td>0.076929</td>\n",
       "      <td>0.616667</td>\n",
       "    </tr>\n",
       "  </tbody>\n",
       "</table>\n",
       "</div>"
      ],
      "text/plain": [
       "   Annotator 1 Annotator 2         P      Rank\n",
       "6            1       model  0.224216  0.450000\n",
       "12           2       model  0.035770  0.700000\n",
       "16           3       model  0.029818  0.716667\n",
       "18           4       model  0.076929  0.616667"
      ]
     },
     "execution_count": 19,
     "metadata": {},
     "output_type": "execute_result"
    }
   ],
   "source": [
    "f1_rank_cor_df = annotator_metric_rank_correlation(pr_per_annotator_df, metric='F1')\n",
    "f1_rank_cor_df[f1_rank_cor_df['Annotator 2'] == annotator_names[model_annotator_id]]"
   ]
  },
  {
   "cell_type": "code",
   "execution_count": 20,
   "metadata": {
    "collapsed": false
   },
   "outputs": [
    {
     "data": {
      "text/html": [
       "<div>\n",
       "<table border=\"1\" class=\"dataframe\">\n",
       "  <thead>\n",
       "    <tr style=\"text-align: right;\">\n",
       "      <th></th>\n",
       "      <th>Annotator 1</th>\n",
       "      <th>Annotator 2</th>\n",
       "      <th>P</th>\n",
       "      <th>Rank</th>\n",
       "    </tr>\n",
       "  </thead>\n",
       "  <tbody>\n",
       "    <tr>\n",
       "      <th>6</th>\n",
       "      <td>1</td>\n",
       "      <td>model</td>\n",
       "      <td>0.187470</td>\n",
       "      <td>0.483333</td>\n",
       "    </tr>\n",
       "    <tr>\n",
       "      <th>12</th>\n",
       "      <td>2</td>\n",
       "      <td>model</td>\n",
       "      <td>0.058073</td>\n",
       "      <td>0.650000</td>\n",
       "    </tr>\n",
       "    <tr>\n",
       "      <th>16</th>\n",
       "      <td>3</td>\n",
       "      <td>model</td>\n",
       "      <td>0.765008</td>\n",
       "      <td>0.116667</td>\n",
       "    </tr>\n",
       "    <tr>\n",
       "      <th>18</th>\n",
       "      <td>4</td>\n",
       "      <td>model</td>\n",
       "      <td>0.732368</td>\n",
       "      <td>0.133333</td>\n",
       "    </tr>\n",
       "  </tbody>\n",
       "</table>\n",
       "</div>"
      ],
      "text/plain": [
       "   Annotator 1 Annotator 2         P      Rank\n",
       "6            1       model  0.187470  0.483333\n",
       "12           2       model  0.058073  0.650000\n",
       "16           3       model  0.765008  0.116667\n",
       "18           4       model  0.732368  0.133333"
      ]
     },
     "execution_count": 20,
     "metadata": {},
     "output_type": "execute_result"
    }
   ],
   "source": [
    "precision_rank_cor_df = annotator_metric_rank_correlation(pr_per_annotator_df, metric='Precision')\n",
    "precision_rank_cor_df[precision_rank_cor_df['Annotator 2'] == annotator_names[model_annotator_id]]"
   ]
  },
  {
   "cell_type": "code",
   "execution_count": 21,
   "metadata": {
    "collapsed": false
   },
   "outputs": [
    {
     "data": {
      "text/html": [
       "<div>\n",
       "<table border=\"1\" class=\"dataframe\">\n",
       "  <thead>\n",
       "    <tr style=\"text-align: right;\">\n",
       "      <th></th>\n",
       "      <th>Annotator 1</th>\n",
       "      <th>Annotator 2</th>\n",
       "      <th>P</th>\n",
       "      <th>Rank</th>\n",
       "    </tr>\n",
       "  </thead>\n",
       "  <tbody>\n",
       "    <tr>\n",
       "      <th>6</th>\n",
       "      <td>1</td>\n",
       "      <td>model</td>\n",
       "      <td>0.170471</td>\n",
       "      <td>0.500000</td>\n",
       "    </tr>\n",
       "    <tr>\n",
       "      <th>12</th>\n",
       "      <td>2</td>\n",
       "      <td>model</td>\n",
       "      <td>0.124977</td>\n",
       "      <td>0.550000</td>\n",
       "    </tr>\n",
       "    <tr>\n",
       "      <th>16</th>\n",
       "      <td>3</td>\n",
       "      <td>model</td>\n",
       "      <td>0.007225</td>\n",
       "      <td>0.816667</td>\n",
       "    </tr>\n",
       "    <tr>\n",
       "      <th>18</th>\n",
       "      <td>4</td>\n",
       "      <td>model</td>\n",
       "      <td>0.015944</td>\n",
       "      <td>0.766667</td>\n",
       "    </tr>\n",
       "  </tbody>\n",
       "</table>\n",
       "</div>"
      ],
      "text/plain": [
       "   Annotator 1 Annotator 2         P      Rank\n",
       "6            1       model  0.170471  0.500000\n",
       "12           2       model  0.124977  0.550000\n",
       "16           3       model  0.007225  0.816667\n",
       "18           4       model  0.015944  0.766667"
      ]
     },
     "execution_count": 21,
     "metadata": {},
     "output_type": "execute_result"
    }
   ],
   "source": [
    "recall_rank_cor_df = annotator_metric_rank_correlation(pr_per_annotator_df, metric='Recall')\n",
    "recall_rank_cor_df[recall_rank_cor_df['Annotator 2'] == annotator_names[model_annotator_id]]"
   ]
  },
  {
   "cell_type": "code",
   "execution_count": 22,
   "metadata": {
    "collapsed": false
   },
   "outputs": [
    {
     "data": {
      "image/png": "[encoded data removed]",
      "text/plain": [
       "<matplotlib.figure.Figure at 0x135c37e50>"
      ]
     },
     "metadata": {},
     "output_type": "display_data"
    },
    {
     "data": {
      "image/png": "[encoded data removed]",
      "text/plain": [
       "<matplotlib.figure.Figure at 0x13613d6d0>"
      ]
     },
     "metadata": {},
     "output_type": "display_data"
    },
    {
     "data": {
      "image/png": "[encoded data removed]",
      "text/plain": [
       "<matplotlib.figure.Figure at 0x1104fe910>"
      ]
     },
     "metadata": {},
     "output_type": "display_data"
    }
   ],
   "source": [
    "def plot_model_probabilities_conditioned_on_annotator_confidence():\n",
    "    from collections import defaultdict\n",
    "    \n",
    "    df, _ = build_annotators_df()\n",
    "    bins = np.linspace(0, 1, 9)\n",
    "    \n",
    "    conf_levels = df.confidence[df['confidence'].notnull()].unique()\n",
    "    \n",
    "    linestyles = [next(linestyle) for c in conf_levels]\n",
    "    \n",
    "    for annotator_id in [1, 2, 3]:\n",
    "        # Get a data frame for just this annotator.\n",
    "        annotator_df = df[df.annotator_id == annotator_id]\n",
    "        \n",
    "        # Get a data frame for the model itself.\n",
    "        model_df = df[df.annotator_id == model_annotator_id].copy()\n",
    "        \n",
    "        # Retain only those rows in the model data frame for which the\n",
    "        # given annotator provided a judgment.\n",
    "        model_df = model_df[model_df.sent_id.isin(annotator_df.sent_id)]\n",
    "\n",
    "        # Sort both data frames.\n",
    "        annotator_df.sort('sent_id', inplace=True)\n",
    "        model_df.sort('sent_id', inplace=True)\n",
    "        \n",
    "        # Copy the annotator's confidence to the model data frame.\n",
    "        model_df.confidence = annotator_df.confidence\n",
    "        \n",
    "        # Iterate over the probability space in steps of 0.1.\n",
    "        min_prob = model_df.probability.min()\n",
    "        start_prob = 0.1 + int(min_prob / 0.1) * 0.1\n",
    "        probs = np.arange(start_prob, 1.0, 0.1)\n",
    "        \n",
    "        fractions = defaultdict(list)\n",
    "        \n",
    "        for prob in probs:\n",
    "            # Take the subset of model_df that falls in this range.\n",
    "            model_prob_df = model_df[(model_df.probability > prob - 0.1) & (model_df.probability <= prob)]\n",
    "            \n",
    "            counts = np.zeros_like(conf_levels)\n",
    "            \n",
    "            for i, conf_level in enumerate(conf_levels):\n",
    "                count = len(model_prob_df[model_prob_df.confidence == conf_level])\n",
    "                counts[i] = count\n",
    "                \n",
    "            if counts.sum() > 0:\n",
    "                normalized = counts / float(counts.sum())\n",
    "            else:\n",
    "                normalized = np.zeros_like(counts)\n",
    "            \n",
    "            for i, conf_level in enumerate(conf_levels):\n",
    "                fractions[conf_level].append(normalized[i])\n",
    "                \n",
    "        plt.figure()\n",
    "        for i, conf_level in enumerate(conf_levels):  \n",
    "            plt.plot(probs, fractions[conf_level], label=conf_level, ls=linestyles[i], linewidth=2)\n",
    "        plt.xlabel('Model probability')\n",
    "        plt.ylabel('Fraction of judgments')\n",
    "        plt.title('Annotator ' + str(annotator_id))\n",
    "        plt.legend(loc='upper left')\n",
    "\n",
    "plot_model_probabilities_conditioned_on_annotator_confidence()"
   ]
  },
  {
   "cell_type": "code",
   "execution_count": 23,
   "metadata": {
    "collapsed": false
   },
   "outputs": [
    {
     "name": "stdout",
     "output_type": "stream",
     "text": [
      "Annotator 1 and model agree, disagree with corpus on 22 sentences\n",
      "Showing first five\n",
      "---------------\n",
      "(not modified) (1,model) by != (corpus) on \"thus the manors of hethersett , which had been settled on thomas flowerdew of london , merchant , after having been mortgaged to william gostlin , were sold in digitdigitdigitdigit to captain john aide of horstead .\"\n",
      "\n",
      "(not modified) (1,model) on != (corpus) in \"daichi and shiroh have become rivals after they first met and work together in some occasions .\"\n",
      "\n",
      "(not modified) (1,model) by != (corpus) of \"it is also a reason the city was chosen as the winter white house of president harry s. truman .\"\n",
      "\n",
      "(not modified) (1,model) in != (corpus) of \"halbi or halba is a tribal community of india .\"\n",
      "\n",
      "(modified) (1,model) on != (corpus) at \"the three story brick building occupies a prominent location in the business district ; its most distinctive feature , a four story clock tower with the corner of central and court streets , makes it a local landmark .\"\n",
      "\n",
      "Annotator 2 and model agree, disagree with corpus on 18 sentences\n",
      "Showing first five\n",
      "---------------\n",
      "(not modified) (2,model) on != (corpus) in \"daichi and shiroh have become rivals after they first met and work together in some occasions .\"\n",
      "\n",
      "(not modified) (2,model) in != (corpus) to \"kiri says that hari was one of those who label him as a `` creep '' to their neighborhood because of his habit of cutting hair .\"\n",
      "\n",
      "(modified) (2,model) at != (corpus) to \"unlike the various soul saturdays throughout the year , there are no changes made at vespers , matins or the divine liturgy , to reflect this being a day of the dead .\"\n",
      "\n",
      "(modified) (2,model) in != (corpus) with \"their new coaches are determined to prove the beautiful mind can take to the beautiful game and the immediately challenge them from their first ever game against a team of mighty mites .\"\n",
      "\n",
      "(modified) (2,model) in != (corpus) on \"tlrdigit is expressed in microglia , schwann cells , monocytes , macrophages , dendritic cells , polymorphonuclear leukocytes -lrb- pmns or pmls -rrb- , b cells -lrb- bdigita , mz b , bdigit -rrb- , and t cells , including tregs -lrb- cddigit+cddigitdigit + regulatory t cells -rrb- .\"\n",
      "\n",
      "Annotator 1 and corpus agree, disagree with model on 34 sentences\n",
      "Showing first five\n",
      "---------------\n",
      "(not modified) (1,corpus) to != (model) by \"jacques plante held the red wings to just ten goals in the five games .\"\n",
      "\n",
      "(not modified) (1,corpus) in != (model) for \"the city of kiryat gat launched a campaign in schools to warn jewish girls against dating local bedouin men .\"\n",
      "\n",
      "(not modified) (1,corpus) on != (model) at \"he first worked for ladbrokes , providing racing commentary into their betting shops , but rose to fame as `` statto '' , the resident statistician on the bbc two television show fantasy football league .\"\n",
      "\n",
      "(not modified) (1,corpus) in != (model) for \"in children this benefit is uncertain and they may be potentially harmful .\"\n",
      "\n",
      "(not modified) (1,corpus) with != (model) on \"the directors were given free rein with the adverts and the directorial style of each can clearly be distinguished in their respective shorts .\"\n",
      "\n",
      "Annotator 2 and corpus agree, disagree with model on 41 sentences\n",
      "Showing first five\n",
      "---------------\n",
      "(not modified) (2,corpus) for != (model) with \"the largest number of stable isotopes that occur for a single element is digitdigit -lrb- for tin , element digitdigit -rrb- .\"\n",
      "\n",
      "(not modified) (2,corpus) from != (model) on \"the concept of five outward wits came to medieval thinking from classical philosophy , and found its most major expression in christian devotional literature of the middle ages .\"\n",
      "\n",
      "(not modified) (2,corpus) of != (model) by \"the band is formed of two core members , lacey conner and chris telkes , and several touring musicians , usually ben graves of the murderdolls and `` rotten '' rotny also guitar player of the industrial/metal band psyclon nine .\"\n",
      "\n",
      "(not modified) (2,corpus) on != (model) at \"he first worked for ladbrokes , providing racing commentary into their betting shops , but rose to fame as `` statto '' , the resident statistician on the bbc two television show fantasy football league .\"\n",
      "\n",
      "(not modified) (2,corpus) with != (model) of \"herbert beerbohm tree staged a digitdigitdigitdigit production with live rabbits .\"\n",
      "\n",
      "Model and corpus agree, disagree with 1 on 59 sentences\n",
      "Showing first five\n",
      "---------------\n",
      "(not modified) (model,corpus) to != (1) for \"licensed to lamar , missouri , usa , the station serves the joplin area .\"\n",
      "\n",
      "(not modified) (model,corpus) by != (1) from \"`` newspapers across the country carried angry commentaries and letters by supporters of israel brandishing the mislabeled photograph as palpable proof of their long-held suspicions .\"\n",
      "\n",
      "(not modified) (model,corpus) in != (1) with \"he did humanitarian work in this project that aids refugees .\"\n",
      "\n",
      "(not modified) (model,corpus) for != (1) on \"ktla then took notice and had him do a segment on decorating for their morning show .\"\n",
      "\n",
      "(not modified) (model,corpus) for != (1) of \"the johns hopkins school of public health represents the archetype for formalized public health education in the united states .\"\n",
      "\n",
      "Model and corpus agree, disagree with 2 on 43 sentences\n",
      "Showing first five\n",
      "---------------\n",
      "(not modified) (model,corpus) on != (2) for \"he is also an experienced studio engineer and mixer ; he worked with progressive rock act mostly autumn as studio engineer on their digitdigitdigitdigit album storms over still water .\"\n",
      "\n",
      "(not modified) (model,corpus) from != (2) in \"students in public school for ninth through twelfth grades attend west morris mendham high school , which also serves students from chester borough , chester township and mendham township and is located in mendham borough .\"\n",
      "\n",
      "(not modified) (model,corpus) at != (2) in \"avelino gomez memorial award honourees receive a replica of the life-size statue of gomez sculpted by siggy puchta that stands at woodbine racetrack .\"\n",
      "\n",
      "(not modified) (model,corpus) for != (2) in \"he did though reached the quarter finals of the digitdigitdigitdigit world masters , qualifying for the last digitdigit where he beat gary robson before losing to martin adams .\"\n",
      "\n",
      "(not modified) (model,corpus) of != (2) on \"contains the first presentation of stochastic context-free grammars .\"\n",
      "\n"
     ]
    }
   ],
   "source": [
    "def find_disagreement(df, agree_id1, agree_id2, disagree_id, column='correct_preposition'):\n",
    "    df_agree1 = df[df.annotator_id == agree_id1]\n",
    "    df_agree2 = df[df.annotator_id == agree_id2]\n",
    "    df_disagree = df[df.annotator_id == disagree_id]\n",
    "    \n",
    "    sent_ids_agree1 = set(df_agree1.sent_id)\n",
    "    sent_ids_agree2 = set(df_agree2.sent_id)\n",
    "    sent_ids_disagree = set(df_disagree.sent_id)\n",
    "    \n",
    "    sent_ids = sent_ids_agree1.intersection(\n",
    "            sent_ids_agree2).intersection(\n",
    "                    sent_ids_disagree)\n",
    "    \n",
    "    # Make all data frames the same size with the same sentence ids.\n",
    "    df_agree1 = df_agree1[df_agree1.sent_id.isin(sent_ids)]\n",
    "    df_agree2 = df_agree2[df_agree2.sent_id.isin(sent_ids)]\n",
    "    df_disagree = df_disagree[df_disagree.sent_id.isin(sent_ids)]\n",
    "    \n",
    "    agree = df_agree1[column].values == df_agree2[column].values\n",
    "    disagree = df_agree1[column].values != df_disagree[column].values\n",
    "    \n",
    "    agreement_word = df_agree1[agree & disagree][column].values\n",
    "    disagreement_word = df_disagree[agree & disagree][column].values\n",
    "    sent_ids = df_disagree[agree & disagree].sent_id.values\n",
    "    \n",
    "    df_disagree = pd.DataFrame({\n",
    "            'agreement_word': agreement_word,\n",
    "            'disagreement_word': disagreement_word,\n",
    "            'sent_id': sent_ids,\n",
    "            'sent_is_modified': sent_is_modified(sent_ids)\n",
    "        })\n",
    "    \n",
    "    df_disagree.sort('sent_id', inplace=True)\n",
    "    \n",
    "    return df_disagree\n",
    "            \n",
    "def build_sentence_error_df():\n",
    "    df, sent_df = build_annotators_df()\n",
    "    \n",
    "    # For each annotator, find the sentences where the annotator \n",
    "    # and model agree with each other and disagree with the corpus.\n",
    "    for annotator_id in [1, 2]:\n",
    "        df_disagree = find_disagreement(df, annotator_id, model_annotator_id, corpus_annotator_id)\n",
    "        sentences = sent_df[sent_df.sent_id.isin(df_disagree.sent_id)].sentence.values\n",
    "        df_disagree['sentence'] = sentences\n",
    "\n",
    "        print('Annotator {id} and model agree, disagree with corpus on {n} sentences'.format(\n",
    "                id=annotator_id, n=len(df_disagree)))\n",
    "        print('Showing first five')\n",
    "        print('---------------')\n",
    "        for i in np.arange(5):\n",
    "            print('({modified}) ({id},model) {agreement} != (corpus) {disagreement} \"{sentence}\"\\n'.format(\n",
    "                modified='modified' if df_disagree.ix[i, 'sent_is_modified'] else 'not modified',\n",
    "                id=annotator_id,\n",
    "                agreement=df_disagree.ix[i, 'agreement_word'],\n",
    "                disagreement=df_disagree.ix[i, 'disagreement_word'],\n",
    "                sentence=df_disagree.ix[i, 'sentence']))\n",
    "    \n",
    "    # For each annotator, find the sentences where the annotator and model\n",
    "    # disagree with each other and the annotator agrees with the corpus.\n",
    "    for annotator_id in [1, 2]:\n",
    "        df_disagree = find_disagreement(df, annotator_id, corpus_annotator_id, model_annotator_id)\n",
    "        sentences = sent_df[sent_df.sent_id.isin(df_disagree.sent_id)].sentence.values\n",
    "        df_disagree['sentence'] = sentences\n",
    "\n",
    "        print('Annotator {id} and corpus agree, disagree with model on {n} sentences'.format(\n",
    "                id=annotator_id, n=len(df_disagree)))\n",
    "        print('Showing first five')\n",
    "        print('---------------')\n",
    "        for i in np.arange(5):\n",
    "            print('({modified}) ({id},corpus) {agreement} != (model) {disagreement} \"{sentence}\"\\n'.format(\n",
    "                modified='modified' if df_disagree.ix[i, 'sent_is_modified'] else 'not modified',\n",
    "                id=annotator_id,\n",
    "                agreement=df_disagree.ix[i, 'agreement_word'],\n",
    "                disagreement=df_disagree.ix[i, 'disagreement_word'],\n",
    "                sentence=df_disagree.ix[i, 'sentence']))\n",
    "    \n",
    "    # For each annotator, find the sentences where the annotator and model\n",
    "    # disagree with each other and the model agrees with the corpus.\n",
    "    for annotator_id in [1, 2]:\n",
    "        df_disagree = find_disagreement(df, model_annotator_id, corpus_annotator_id, annotator_id)\n",
    "        sentences = sent_df[sent_df.sent_id.isin(df_disagree.sent_id)].sentence.values\n",
    "        df_disagree['sentence'] = sentences\n",
    "\n",
    "        print('Model and corpus agree, disagree with {id} on {n} sentences'.format(\n",
    "                id=annotator_id, n=len(df_disagree)))\n",
    "        print('Showing first five')\n",
    "        print('---------------')\n",
    "        for i in np.arange(5):\n",
    "            print('({modified}) (model,corpus) {agreement} != ({id}) {disagreement} \"{sentence}\"\\n'.format(\n",
    "                modified='modified' if df_disagree.ix[i, 'sent_is_modified'] else 'not modified',\n",
    "                id=annotator_id,\n",
    "                agreement=df_disagree.ix[i, 'agreement_word'],\n",
    "                disagreement=df_disagree.ix[i, 'disagreement_word'],\n",
    "                sentence=df_disagree.ix[i, 'sentence']))\n",
    "    \n",
    "build_sentence_error_df()"
   ]
  },
  {
   "cell_type": "code",
   "execution_count": 24,
   "metadata": {
    "collapsed": true
   },
   "outputs": [],
   "source": [
    "def report_annotator_results(annotator_csv, annotator_id, model_data, preds, probs, target_data):\n",
    "    annotator_df = load_annotator_df(annotator_csv)\n",
    "    new_df = merge_ground_truth_and_judgments(\n",
    "            annotator_df, annotator_id, model_data, preds, probs, target_data)\n",
    "    \n",
    "    print('Annotator {id} vs. ground truth'.format(id=annotator_id))\n",
    "    p, r, f1, _ = precision_recall_fscore_support(\n",
    "        new_df.ground_truth_word_code, new_df.annotator_word_code, average='macro')\n",
    "    k = cohen_kappa_score(new_df.ground_truth_word_code, new_df.annotator_word_code)\n",
    "    print('P {precision:.02f} R {recall:.02f} F1 {f1:.02f} Kappa {kappa:.02f}'.format(\n",
    "            precision=p, recall=r, f1=f1, kappa=k))\n",
    "\n",
    "    print('Model vs. ground truth')\n",
    "    p, r, f1, _ = precision_recall_fscore_support(\n",
    "        new_df.ground_truth_word_code, new_df.model_word_code, average='macro')\n",
    "    k = cohen_kappa_score(new_df.ground_truth_word_code, new_df.model_word_code)\n",
    "    print('P {precision:.02f} R {recall:.02f} F1 {f1:.02f} Kappa {kappa:.02f}'.format(\n",
    "            precision=p, recall=r, f1=f1, kappa=k))\n",
    "\n",
    "    print('Model vs. annotator {id}'.format(id=annotator_id))\n",
    "    p, r, f1, _ = precision_recall_fscore_support(\n",
    "        new_df.annotator_word_code, new_df.model_word_code, average='macro')\n",
    "    k = cohen_kappa_score(new_df.annotator_word_code, new_df.model_word_code)\n",
    "    print('P {precision:.02f} R {recall:.02f} F1 {f1:.02f} Kappa {kappa:.02f}'.format(\n",
    "            precision=p, recall=r, f1=f1, kappa=k))\n"
   ]
  },
  {
   "cell_type": "markdown",
   "metadata": {},
   "source": [
    "Annotator 1\n",
    "----------"
   ]
  },
  {
   "cell_type": "code",
   "execution_count": 25,
   "metadata": {
    "collapsed": false
   },
   "outputs": [],
   "source": [
    "# annotator1_csv = annotator_data_dir + 'annotator01-results.csv'\n",
    "# report_annotator_results(\n",
    "#     annotator1_csv, 1,\n",
    "#     model_data, preds, probs, target_data)"
   ]
  },
  {
   "cell_type": "markdown",
   "metadata": {},
   "source": [
    "Annotator 2\n",
    "-----------"
   ]
  },
  {
   "cell_type": "code",
   "execution_count": 26,
   "metadata": {
    "collapsed": false
   },
   "outputs": [],
   "source": [
    "# annotator2_csv = annotator_data_dir + 'annotator02-results.csv'\n",
    "# report_annotator_results(\n",
    "#     annotator2_csv, 2,\n",
    "#     model_data, preds, probs, target_data)"
   ]
  },
  {
   "cell_type": "code",
   "execution_count": 27,
   "metadata": {
    "collapsed": false
   },
   "outputs": [],
   "source": [
    "# annotator_csvs = [annotator1_csv, annotator2_csv]\n",
    "# annotator_ids = [1, 2]\n",
    "# all_annotators = merge_ground_truth_and_multiple_judgments(\n",
    "#     annotator_csvs, annotator_ids, model_data, preds, target_data)"
   ]
  },
  {
   "cell_type": "markdown",
   "metadata": {},
   "source": [
    "Error detection\n",
    "========\n",
    "\n",
    "The authors of the Chungdam paper report precision and recall for error detection and correction.  On detection, they report precision of 0.933 with **0.148** recall.  In this section we show that using a simple temporal convolutional network results in a precision of 0.94 at **0.91** recall.  The comparison is not quite apt, as errors are distributed differently in our data.  Error detection is a binary classification task and about half of the sentences in our corpus contain an error.  In the Chungdam corpus, errors are distributed ... how?  Similarly, the frequency of kinds of error is distributed differently in our corpus; the numbers of error are proportional to their occurrence in the original corpus."
   ]
  },
  {
   "cell_type": "code",
   "execution_count": 28,
   "metadata": {
    "collapsed": false
   },
   "outputs": [
    {
     "name": "stdout",
     "output_type": "stream",
     "text": [
      "\n",
      "Confusion matrix for error detection (prior baseline)\n",
      "\n",
      "[[ 97208 402568]\n",
      " [ 50307 449469]]\n",
      "\n",
      "Confusion matrix for error detection (uniform baseline)\n",
      "\n",
      "[[ 55646 444130]\n",
      " [ 55518 444258]]\n",
      "\n",
      "Confusion matrix for error detection\n",
      "\n",
      "[[470314  29462]\n",
      " [ 36194 463582]]\n",
      "\n",
      "Performance summary of error detection (prior baseline)\n",
      "\n",
      "(0.52752286579103957, 0.89934090472531691, 0.66498694715911144, 0.57507387554108003, None)\n",
      "\n",
      "Performance summary of error detection (uniform baseline)\n",
      "\n",
      "(0.5000720405948752, 0.88891423357664234, 0.64006558302909455, 0.54801634607413963, None)\n",
      "\n",
      "Performance summary of error detection\n",
      "\n",
      "(0.94024468404442607, 0.92757955564092709, 0.93386918071755209, 0.93768406506275226, None)\n"
     ]
    }
   ],
   "source": [
    "error_detection_targets = np.ones_like(model_data.current_word_code)\n",
    "error_detection_targets[evens] = 0\n",
    "\n",
    "dummy_prior_error_detection_preds = (preds_prior != model_data.current_word_code).astype(int)\n",
    "dummy_uniform_error_detection_preds = (preds_uniform != model_data.current_word_code).astype(int)\n",
    "error_detection_preds = (preds != model_data.current_word_code).astype(int)\n",
    "\n",
    "print('\\nConfusion matrix for error detection (prior baseline)\\n')\n",
    "print(confusion_matrix(error_detection_targets, dummy_prior_error_detection_preds))\n",
    "\n",
    "print('\\nConfusion matrix for error detection (uniform baseline)\\n')\n",
    "print(confusion_matrix(error_detection_targets, dummy_uniform_error_detection_preds))\n",
    "\n",
    "print('\\nConfusion matrix for error detection\\n')\n",
    "print(confusion_matrix(error_detection_targets, error_detection_preds))\n",
    "\n",
    "print('\\nPerformance summary of error detection (prior baseline)\\n')\n",
    "p, r, f, s = precision_recall_fscore_support(\n",
    "        error_detection_targets, dummy_prior_error_detection_preds, average='binary')\n",
    "fbeta_05 = fbeta_score(error_detection_targets, dummy_prior_error_detection_preds, beta=0.5)\n",
    "print(p, r, f, fbeta_05, s)\n",
    "\n",
    "print('\\nPerformance summary of error detection (uniform baseline)\\n')\n",
    "p, r, f, s = precision_recall_fscore_support(\n",
    "        error_detection_targets, dummy_uniform_error_detection_preds, average='binary')\n",
    "fbeta_05 = fbeta_score(error_detection_targets, dummy_uniform_error_detection_preds, beta=0.5)\n",
    "print(p, r, f, fbeta_05, s)\n",
    "\n",
    "print('\\nPerformance summary of error detection\\n')\n",
    "p, r, f, s = precision_recall_fscore_support(\n",
    "        error_detection_targets, error_detection_preds, average='binary')\n",
    "fbeta_05 = fbeta_score(error_detection_targets, error_detection_preds, beta=0.5)\n",
    "print(p, r, f, fbeta_05, s)"
   ]
  },
  {
   "cell_type": "markdown",
   "metadata": {},
   "source": [
    "Error correction\n",
    "========\n",
    "\n",
    "On error correction, the authors of the Chungdam corpus paper report precision 0.817 at recall of 0.132.  Our model -- not quite the best performing one we have -- achieves 0.803 precision at a recall of 0.803."
   ]
  },
  {
   "cell_type": "code",
   "execution_count": 29,
   "metadata": {
    "collapsed": false
   },
   "outputs": [
    {
     "name": "stderr",
     "output_type": "stream",
     "text": [
      "/Users/ndronen/miniconda/lib/python2.7/site-packages/sklearn/metrics/classification.py:1074: UndefinedMetricWarning: Precision and F-score are ill-defined and being set to 0.0 in labels with no predicted samples.\n",
      "  'precision', 'predicted', average, warn_for)\n",
      "/Users/ndronen/miniconda/lib/python2.7/site-packages/sklearn/metrics/classification.py:1074: UndefinedMetricWarning: F-score is ill-defined and being set to 0.0 in labels with no predicted samples.\n",
      "  'precision', 'predicted', average, warn_for)\n"
     ]
    },
    {
     "name": "stdout",
     "output_type": "stream",
     "text": [
      "No-change baseline   Precision 0.492 Recall 0.500 F1 0.494 Fbeta-0.5 0.493 N 999552\n",
      "Prior baseline       Precision 0.022 Recall 0.111 F1 0.036 Fbeta-0.5 0.026 N 999552\n",
      "Uniform baseline     Precision 0.112 Recall 0.112 F1 0.110 Fbeta-0.5 0.110 N 999552\n",
      "Real model           Precision 0.869 Recall 0.866 F1 0.868 Fbeta-0.5 0.869 N 999552\n"
     ]
    }
   ],
   "source": [
    "p, r, f, _ = precision_recall_fscore_support(\n",
    "        model_data.target, \n",
    "        model_data.current_word_code,\n",
    "        average=weighting)\n",
    "fbeta_05 = fbeta_score(\n",
    "        model_data.target,\n",
    "        model_data.current_word_code,\n",
    "        beta=0.5, average=weighting)\n",
    "\n",
    "print('{model_type:20s} Precision {precision:.03f} Recall {recall:.03f} F1 {f1:.03f} Fbeta-0.5 {fbeta:.03f} N {N:d}'.format(\n",
    "        model_type='No-change baseline',\n",
    "        precision=p, recall=r, f1=f, fbeta=fbeta_05, N=len(model_data.target)))\n",
    "\n",
    "p, r, f, _ = precision_recall_fscore_support(\n",
    "        model_data.target, \n",
    "        preds_prior,\n",
    "        average=weighting)\n",
    "fbeta_05 = fbeta_score(\n",
    "        model_data.target,\n",
    "        preds_prior,\n",
    "        beta=0.5, average=weighting)\n",
    "\n",
    "print('{model_type:20s} Precision {precision:.03f} Recall {recall:.03f} F1 {f1:.03f} Fbeta-0.5 {fbeta:.03f} N {N:d}'.format(\n",
    "        model_type='Prior baseline',\n",
    "        precision=p, recall=r, f1=f, fbeta=fbeta_05, N=len(model_data.target)))\n",
    "\n",
    "p, r, f, _ = precision_recall_fscore_support(\n",
    "        model_data.target, \n",
    "        preds_uniform,\n",
    "        average=weighting)\n",
    "fbeta_05 = fbeta_score(\n",
    "        model_data.target,\n",
    "        preds_uniform,\n",
    "        beta=0.5, average=weighting)\n",
    "\n",
    "print('{model_type:20s} Precision {precision:.03f} Recall {recall:.03f} F1 {f1:.03f} Fbeta-0.5 {fbeta:.03f} N {N:d}'.format(\n",
    "        model_type='Uniform baseline',\n",
    "        precision=p, recall=r, f1=f, fbeta=fbeta_05, N=len(model_data.target)))\n",
    "\n",
    "p, r, f, _ = precision_recall_fscore_support(\n",
    "        model_data.target, \n",
    "        preds,\n",
    "        average=weighting)\n",
    "fbeta_05 = fbeta_score(\n",
    "        model_data.target,\n",
    "        preds,\n",
    "        beta=0.5, average=weighting)\n",
    "\n",
    "print('{model_type:20s} Precision {precision:.03f} Recall {recall:.03f} F1 {f1:.03f} Fbeta-0.5 {fbeta:.03f} N {N:d}'.format(\n",
    "        model_type='Real model',\n",
    "        precision=p, recall=r, f1=f, fbeta=fbeta_05, N=len(model_data.target)))"
   ]
  },
  {
   "cell_type": "code",
   "execution_count": 31,
   "metadata": {
    "collapsed": false
   },
   "outputs": [
    {
     "data": {
      "image/png": "[encoded data removed]",
      "text/plain": [
       "<matplotlib.figure.Figure at 0x110599410>"
      ]
     },
     "metadata": {},
     "output_type": "display_data"
    }
   ],
   "source": [
    "# Limit the scope of the variables in this cell by encapsulating them\n",
    "# in a function.  Otherwise, their scope is that of the entire notebook,\n",
    "# which makes variable names do more work than they ought to.  (This is\n",
    "# so because in Python 2.7, variables declared inside loops are automatically\n",
    "# promoted to their outer enclosing environment; I think this is no longer\n",
    "# the case in Python 3 [so upgrade]).\n",
    "def per_class_precision_recall_curves():\n",
    "    #plt.figure(figsize=(9,6))\n",
    "    \n",
    "    all_prec = []\n",
    "    all_rec = []\n",
    "    all_prep = []\n",
    "    \n",
    "    fig = plt.figure(figsize=(12,9))\n",
    "    ax = fig.add_subplot(111)\n",
    "    \n",
    "    label_props = {'size': 32 }\n",
    "    legend_props = ticks_props = { 'size': 24 }\n",
    "    \n",
    "    plt.setp(ax.get_xticklabels(), fontsize=legend_props['size'])\n",
    "    plt.setp(ax.get_yticklabels(), fontsize=legend_props['size'])\n",
    "    \n",
    "    for code, preposition in enumerate(target_data['original_word_code']['names']):\n",
    "        # Convert the targets to 0-1 for this preposition.\n",
    "        targets_binary = model_data.target.copy()\n",
    "        mask = targets_binary == code\n",
    "        targets_binary[mask] = 1\n",
    "        targets_binary[~mask] = 0\n",
    "\n",
    "        # Convert the n-way softmax to a binary classification probability by taking\n",
    "        # the column from the softmax that corresponds to this preposition.\n",
    "        probs_binary = probs[:, code]\n",
    "\n",
    "        prec, rec, _ = precision_recall_curve(\n",
    "            targets_binary, probs_binary)\n",
    "        ax.plot(rec, prec, label=preposition, ls=next(linestyle), linewidth=3)\n",
    "        \n",
    "        all_prec.extend(prec)\n",
    "        all_rec.extend(rec)\n",
    "        all_prep.extend([preposition] * len(prec))\n",
    "\n",
    "    ax.set_xlabel('Recall', **label_props)\n",
    "    ax.set_ylabel('Precision', **label_props)\n",
    "    ax.legend(loc='center left', prop=legend_props)\n",
    "    plt.savefig('figures/precision-recall.pdf')\n",
    "    \n",
    "    return pd.DataFrame({\n",
    "            'Precision': all_prec,\n",
    "            'Recall': all_rec,\n",
    "            'Preposition': all_prep\n",
    "            })\n",
    "    \n",
    "precision_recall_df = per_class_precision_recall_curves()"
   ]
  },
  {
   "cell_type": "markdown",
   "metadata": {},
   "source": [
    "Improving detection and correction performance\n",
    "==============\n",
    "There are three ways improve detection and correction.  Only allow the model to make a correction if:\n",
    "1. the sentence is a good length (neither too long nor too short -- 8-18 words?)\n",
    "1. the sentence contains no or very few unknown words.\n",
    "1. the probability of the most probable class is high."
   ]
  },
  {
   "cell_type": "code",
   "execution_count": 32,
   "metadata": {
    "collapsed": false
   },
   "outputs": [
    {
     "name": "stdout",
     "output_type": "stream",
     "text": [
      "Error correction performance with sentence length constraint\n",
      "(0.87368416895761958, 0.86806065971646995, 0.87063704913840523, 0.87240802476324519, 382514)\n",
      "Error correction performance with no unknown words constraint\n",
      "(0.86845577282758557, 0.86802154412840205, 0.86808834495917775, 0.86827303529421529, 533382)\n",
      "Error correction performance with length and unknown words constraints\n",
      "(0.87422727496826669, 0.87146442044039374, 0.87265895974330654, 0.87355474437826641, 232520)\n"
     ]
    }
   ],
   "source": [
    "def compute_n_unknown_words():\n",
    "    n_unknown_words = np.zeros_like(model_data.len)\n",
    "    for i in np.arange(0, len(model_data.len)):\n",
    "        n_unknown_words[i] = len(np.where(model_data.data[i, 0:model_data.len[i]] == 0)[0])\n",
    "    return n_unknown_words\n",
    "\n",
    "def sentence_length_constraint(min_len=8, max_len=20):\n",
    "    return (model_data.len > 8) & (model_data.len < 20)\n",
    "\n",
    "def number_of_unknown_words_constraint(n_unknown=0):\n",
    "    n_unknown_words = compute_n_unknown_words()\n",
    "    return n_unknown_words <= n_unknown\n",
    "    \n",
    "def performance_with_constraints():\n",
    "    right_length = sentence_length_constraint()\n",
    "    no_unknown_words = number_of_unknown_words_constraint()\n",
    "    both_constraints = right_length & no_unknown_words\n",
    "    \n",
    "    p, r, f, s = precision_recall_fscore_support(\n",
    "            model_data.target[right_length], \n",
    "            preds[right_length],\n",
    "            average=weighting)\n",
    "    fbeta_05 = fbeta_score(\n",
    "            model_data.target[right_length],\n",
    "            preds[right_length],\n",
    "            beta=0.5, average=weighting)\n",
    "    print('Error correction performance with sentence length constraint')\n",
    "    print(p, r, f, fbeta_05, sum(right_length))\n",
    "    \n",
    "    p, r, f, s = precision_recall_fscore_support(\n",
    "            model_data.target[no_unknown_words], \n",
    "            preds[no_unknown_words],\n",
    "            average=weighting)\n",
    "    fbeta_05 = fbeta_score(\n",
    "            model_data.target[no_unknown_words],\n",
    "            preds[no_unknown_words],\n",
    "            beta=0.5, average=weighting)\n",
    "    print('Error correction performance with no unknown words constraint')\n",
    "    print(p, r, f, fbeta_05, sum(no_unknown_words))\n",
    "    \n",
    "    p, r, f, s = precision_recall_fscore_support(\n",
    "            model_data.target[both_constraints], \n",
    "            preds[both_constraints],\n",
    "            average=weighting)\n",
    "    fbeta_05 = fbeta_score(\n",
    "            model_data.target[both_constraints],\n",
    "            preds[both_constraints],\n",
    "            beta=0.5, average=weighting)\n",
    "    print('Error correction performance with length and unknown words constraints')\n",
    "    print(p, r, f, fbeta_05, sum(both_constraints))\n",
    "    \n",
    "    \n",
    "performance_with_constraints()"
   ]
  },
  {
   "cell_type": "markdown",
   "metadata": {},
   "source": [
    "Effect of length on model performance\n",
    "=======\n",
    "\n",
    "For this particular convolutional network, performance degrades with length.  I should run these reports with and without sentences that contain unknown words, in order to control for that variable."
   ]
  },
  {
   "cell_type": "code",
   "execution_count": 60,
   "metadata": {
    "collapsed": false
   },
   "outputs": [
    {
     "data": {
      "image/png": "[encoded data removed]",
      "text/plain": [
       "<matplotlib.figure.Figure at 0x11096f610>"
      ]
     },
     "metadata": {},
     "output_type": "display_data"
    }
   ],
   "source": [
    "def plot_performance_by_length():\n",
    "    f1_by_length = []\n",
    "    \n",
    "    fig = plt.figure(figsize=(12,9))\n",
    "    ax = fig.add_subplot(111)\n",
    "    \n",
    "    label_props = {'size': 32 }\n",
    "    legend_props = { 'size': 24 }\n",
    "    \n",
    "    plt.setp(ax.get_xticklabels(), fontsize=legend_props['size'])\n",
    "    plt.setp(ax.get_yticklabels(), fontsize=legend_props['size'])\n",
    "\n",
    "    for start in np.arange(5, 50):\n",
    "        end = start + 1\n",
    "        idx = np.where((model_data.len >= start) & (model_data.len < end))[0]\n",
    "        p, r, f, s = precision_recall_fscore_support(\n",
    "                model_data.target[idx],\n",
    "                preds[idx],\n",
    "                average=weighting)\n",
    "        #f1_by_length.append(f)\n",
    "        ax.scatter(start, f, s=len(idx)/18., alpha=.1)\n",
    "        ax.scatter(start, f, c='black')\n",
    "        #print(\"{start:02d}-{end:02d} {precision:.2f} {recall:.2f} {f:.2f} {support:6d}\".format(\n",
    "        #        start=start, end=end, precision=p, recall=r, f=f, support=len(idx)))\n",
    "    \n",
    "    ax.set_xlabel('Sentence length', **label_props)\n",
    "    ax.set_ylabel('F1', **label_props)\n",
    "\n",
    "    plt.savefig('figures/f1-by-length.pdf')\n",
    "    \n",
    "plot_performance_by_length()"
   ]
  },
  {
   "cell_type": "markdown",
   "metadata": {},
   "source": [
    "Error detection performance conditioned on original (correct) preposition (i.e. the target variable)\n",
    "========\n",
    "\"For\" is the preposition with the lowest precision, recall, F-1, and F-0.5."
   ]
  },
  {
   "cell_type": "code",
   "execution_count": 34,
   "metadata": {
    "collapsed": false
   },
   "outputs": [
    {
     "name": "stdout",
     "output_type": "stream",
     "text": [
      "0 at    0.93 0.92 0.92 0.93  94994\n",
      "1 by    0.93 0.93 0.93 0.93  94946\n",
      "2 for   0.91 0.89 0.90 0.91  97386\n",
      "3 from  0.91 0.91 0.91 0.91  90432\n",
      "4 in    0.96 0.94 0.95 0.96 194416\n",
      "5 of    0.96 0.94 0.95 0.96 112102\n",
      "6 on    0.94 0.92 0.93 0.93 108748\n",
      "7 to    0.95 0.95 0.95 0.95 113168\n",
      "8 with  0.93 0.91 0.92 0.93  93360\n"
     ]
    }
   ],
   "source": [
    "for code, word in enumerate(target_data['original_word_code']['names']):\n",
    "    targets_with_code_idx = np.where(model_data.target == code)[0]\n",
    "    error_detection_targets_word = error_detection_targets[targets_with_code_idx]\n",
    "    error_detection_preds_word = (\n",
    "        preds[targets_with_code_idx] != model_data.current_word_code[targets_with_code_idx]\n",
    "    ).astype(int)\n",
    "\n",
    "    p, r, f, s = precision_recall_fscore_support(\n",
    "            error_detection_targets_word,\n",
    "            error_detection_preds_word,\n",
    "            average='binary')\n",
    "    \n",
    "    fbeta_05 = fbeta_score(\n",
    "            error_detection_targets_word,\n",
    "            error_detection_preds_word,\n",
    "            average='binary',\n",
    "            beta=0.5)\n",
    "    \n",
    "    df_row = pd.DataFrame({\n",
    "                'code': [code],\n",
    "                'word': [word],\n",
    "                'precision': [p],\n",
    "                'recall': [r],\n",
    "                'f1': [f],\n",
    "                'fbeta_05': [fbeta_05],\n",
    "                'n': [len(targets_with_code_idx)]\n",
    "            })\n",
    "    \n",
    "    print(\"{code} {word:5s} {precision:.2f} {recall:.2f} {f1:.2f} {fbeta:.2f} {n:6d}\".format(\n",
    "            code=code, word=word, precision=p, recall=r, f1=f, fbeta=fbeta_05, n=len(targets_with_code_idx)))"
   ]
  },
  {
   "cell_type": "markdown",
   "metadata": {},
   "source": [
    "Error detection performance conditioned on actual (possibly incorrect) preposition\n",
    "=======\n",
    "We would like to measure the difficulty of detecting an error given the actual preposition.  The prepositions with the lowest precision, recall, and F1, and F-0.5 are \"for\", \"in\", \"in\", and \"for\", respectively."
   ]
  },
  {
   "cell_type": "code",
   "execution_count": 35,
   "metadata": {
    "collapsed": false
   },
   "outputs": [
    {
     "name": "stdout",
     "output_type": "stream",
     "text": [
      "0 at    0.94 0.94 0.94 0.94 104427\n",
      "1 by    0.95 0.94 0.94 0.94 104302\n",
      "2 for   0.92 0.90 0.91 0.92 105280\n",
      "3 from  0.93 0.93 0.93 0.93 102136\n",
      "4 in    0.93 0.89 0.91 0.92 147515\n",
      "5 of    0.96 0.95 0.95 0.96 111415\n",
      "6 on    0.94 0.92 0.93 0.93 109835\n",
      "7 to    0.95 0.96 0.96 0.96 111686\n",
      "8 with  0.94 0.91 0.92 0.93 102956\n"
     ]
    }
   ],
   "source": [
    "for code, word in enumerate(target_data['current_word_code']['names']):\n",
    "    targets_with_code_idx = np.where(model_data.current_word_code == code)[0]\n",
    "    error_detection_targets_word = error_detection_targets[targets_with_code_idx]\n",
    "    error_detection_preds_word = (preds[targets_with_code_idx] != model_data.current_word_code[targets_with_code_idx]).astype(int)\n",
    "\n",
    "    p, r, f, s = precision_recall_fscore_support(\n",
    "            error_detection_targets_word,\n",
    "            error_detection_preds_word,\n",
    "            average='binary')\n",
    "    fbeta_05 = fbeta_score(\n",
    "            error_detection_targets_word,\n",
    "            error_detection_preds_word,\n",
    "            beta=0.5,\n",
    "            average='binary')\n",
    "    print(\"{code} {word:5s} {precision:.2f} {recall:.2f} {f1:.2f} {fbeta:.2f} {n:6d}\".format(\n",
    "            code=code, word=word, precision=p, recall=r, f1=f, fbeta=fbeta_05, n=len(targets_with_code_idx)))"
   ]
  },
  {
   "cell_type": "markdown",
   "metadata": {},
   "source": [
    "Error correction performance conditioned on original preposition\n",
    "--------"
   ]
  },
  {
   "cell_type": "code",
   "execution_count": 36,
   "metadata": {
    "collapsed": false
   },
   "outputs": [
    {
     "name": "stdout",
     "output_type": "stream",
     "text": [
      "\\begin{tabular}{lrrrr}\n",
      "\\toprule\n",
      " word &  precision &  recall &   f1 &       n \\\\\n",
      "\\midrule\n",
      "   at &       0.88 &    0.85 & 0.86 &   94994 \\\\\n",
      "   by &       0.87 &    0.87 & 0.87 &   94946 \\\\\n",
      "  for &       0.83 &    0.80 & 0.82 &   97386 \\\\\n",
      " from &       0.86 &    0.83 & 0.84 &   90432 \\\\\n",
      "   in &       0.89 &    0.91 & 0.90 &  194416 \\\\\n",
      "   of &       0.89 &    0.91 & 0.90 &  112102 \\\\\n",
      "   on &       0.87 &    0.87 & 0.87 &  108748 \\\\\n",
      "   to &       0.94 &    0.91 & 0.92 &  113168 \\\\\n",
      " with &       0.81 &    0.85 & 0.83 &   93360 \\\\\n",
      "\\bottomrule\n",
      "\\end{tabular}\n",
      "\n"
     ]
    }
   ],
   "source": [
    "word = target_data['current_word_code']['names']\n",
    "codes = np.arange(len(word))\n",
    "p, r, f, s = precision_recall_fscore_support(\n",
    "        model_data.target,\n",
    "        preds,\n",
    "        average=None)\n",
    "fbeta_05 = fbeta_score(\n",
    "        model_data.target,\n",
    "        preds,\n",
    "        beta=0.5,\n",
    "        average=None)\n",
    "df_correction = pd.DataFrame({\n",
    "        'word': word,\n",
    "        'precision': p,\n",
    "        'recall': r,\n",
    "        'f1': f,\n",
    "        'fbeta_05': fbeta_05,\n",
    "        'n': s\n",
    "        })\n",
    "df_correction = df_correction[['word', 'precision', 'recall', 'f1', 'n']]\n",
    "print(df_correction.to_latex(index=False, float_format=lambda f: '%.02f' % f))"
   ]
  },
  {
   "cell_type": "markdown",
   "metadata": {},
   "source": [
    "Error correction performance conditioned on actual (possibly incorrect) preposition and original (correct) preposition\n",
    "========"
   ]
  },
  {
   "cell_type": "code",
   "execution_count": 37,
   "metadata": {
    "collapsed": false,
    "scrolled": false
   },
   "outputs": [],
   "source": [
    "def error_correction_performance_conditioned_on_actual_and_original():\n",
    "    correction_conditioned_actual_orig = []\n",
    "\n",
    "    n_error_correction = (error_detection_preds == 1).sum()\n",
    "\n",
    "    for current_word_code, current_word in enumerate(target_data['current_word_code']['names']):\n",
    "        # Error correction performance is only computed over the examples for which\n",
    "        # the model's predicted preposition differs from the actual preposition.\n",
    "\n",
    "        # First find the examples for which the model's predicted preposition differs from\n",
    "        # the actual preposition.\n",
    "        error_correction_mask = error_detection_preds == 1\n",
    "\n",
    "        # Then find the examples that have the given original preposition.\n",
    "        targets_with_code = model_data.current_word_code == current_word_code\n",
    "\n",
    "        targets_with_code_idx = np.where(error_correction_mask & targets_with_code)[0]\n",
    "        error_correction_targets_word = model_data.target[targets_with_code_idx]\n",
    "        error_correction_preds_word = preds[targets_with_code_idx]\n",
    "\n",
    "        error_correction_targets_word = error_correction_targets_word\n",
    "        error_correction_preds_word = error_correction_preds_word\n",
    "\n",
    "        p, r, f, s = precision_recall_fscore_support(\n",
    "                error_correction_targets_word,\n",
    "                error_correction_preds_word,\n",
    "                average=None)\n",
    "\n",
    "        for original_word_code, original_word in enumerate(target_data['original_word_code']['names']):\n",
    "            f1_macro = f[original_word_code] * s[original_word_code] / n_error_correction\n",
    "            correction_conditioned_actual_orig.append({\n",
    "                    'current_word': current_word,\n",
    "                    'original_word': original_word,\n",
    "                    'precision': p[original_word_code],\n",
    "                    'recall': r[original_word_code],\n",
    "                    'f1': f[original_word_code],\n",
    "                    'f1macro': f1_macro,\n",
    "                    'n': s[original_word_code]\n",
    "                })\n",
    "\n",
    "    df = pd.DataFrame(correction_conditioned_actual_orig)\n",
    "    df = df.sort(['f1'])\n",
    "    df = df[['current_word', 'original_word', 'precision', 'recall', 'f1', 'f1macro', 'n']]\n",
    "    pd.set_option('display.precision', 3)\n",
    "\n",
    "    print('The 20 most difficult current-original word pairs\\n')\n",
    "    print(df[df.precision > 0].head(n=20))\n",
    "    print('')\n",
    "\n",
    "    print('The 20 easiest current-original word pairs\\n')\n",
    "    print(df[df.precision > 0].tail(n=20))\n",
    "    print('')\n",
    "\n",
    "    print(df[df.precision > 0].f1macro.sum())\n",
    "    \n",
    "#error_correction_performance_conditioned_on_actual_and_original()"
   ]
  },
  {
   "cell_type": "code",
   "execution_count": 38,
   "metadata": {
    "collapsed": false
   },
   "outputs": [
    {
     "data": {
      "text/html": [
       "<div>\n",
       "<table border=\"1\" class=\"dataframe\">\n",
       "  <thead>\n",
       "    <tr style=\"text-align: right;\">\n",
       "      <th></th>\n",
       "      <th>preposition</th>\n",
       "      <th>n</th>\n",
       "    </tr>\n",
       "  </thead>\n",
       "  <tbody>\n",
       "    <tr>\n",
       "      <th>0</th>\n",
       "      <td>at</td>\n",
       "      <td>94994</td>\n",
       "    </tr>\n",
       "    <tr>\n",
       "      <th>1</th>\n",
       "      <td>by</td>\n",
       "      <td>94946</td>\n",
       "    </tr>\n",
       "    <tr>\n",
       "      <th>2</th>\n",
       "      <td>for</td>\n",
       "      <td>97386</td>\n",
       "    </tr>\n",
       "    <tr>\n",
       "      <th>3</th>\n",
       "      <td>from</td>\n",
       "      <td>90432</td>\n",
       "    </tr>\n",
       "    <tr>\n",
       "      <th>4</th>\n",
       "      <td>in</td>\n",
       "      <td>194416</td>\n",
       "    </tr>\n",
       "    <tr>\n",
       "      <th>5</th>\n",
       "      <td>of</td>\n",
       "      <td>112102</td>\n",
       "    </tr>\n",
       "    <tr>\n",
       "      <th>6</th>\n",
       "      <td>on</td>\n",
       "      <td>108748</td>\n",
       "    </tr>\n",
       "    <tr>\n",
       "      <th>7</th>\n",
       "      <td>to</td>\n",
       "      <td>113168</td>\n",
       "    </tr>\n",
       "    <tr>\n",
       "      <th>8</th>\n",
       "      <td>with</td>\n",
       "      <td>93360</td>\n",
       "    </tr>\n",
       "  </tbody>\n",
       "</table>\n",
       "</div>"
      ],
      "text/plain": [
       "  preposition       n\n",
       "0          at   94994\n",
       "1          by   94946\n",
       "2         for   97386\n",
       "3        from   90432\n",
       "4          in  194416\n",
       "5          of  112102\n",
       "6          on  108748\n",
       "7          to  113168\n",
       "8        with   93360"
      ]
     },
     "execution_count": 38,
     "metadata": {},
     "output_type": "execute_result"
    }
   ],
   "source": [
    "df_sizes = pd.DataFrame({\n",
    "        'preposition': target_data['original_word_code']['names'],\n",
    "        'n': np.bincount(model_data.target)\n",
    "        })\n",
    "df_sizes[['preposition', 'n']]"
   ]
  },
  {
   "cell_type": "markdown",
   "metadata": {},
   "source": [
    "Correlation of number of examples and performance\n",
    "===========\n",
    "The distribution of errors in the validation set is proportional to that of the training set.  The figures and tables below explore the relationship between the number of training examples and the performance on each kind of example."
   ]
  },
  {
   "cell_type": "code",
   "execution_count": 39,
   "metadata": {
    "collapsed": false
   },
   "outputs": [],
   "source": [
    "def plot_performance_by_number_of_examples():\n",
    "    plt.figure(figsize=(15,8))\n",
    "    cols = ['red', 'blue', 'green', 'magenta', 'yellow', 'pink', 'cyan', 'brown', 'gray', 'black']\n",
    "    for i, original_word in enumerate(target_data['original_word_code']['names']):\n",
    "        df_original_word = df[(df.f1 > 0) & (df.original_word == original_word)]\n",
    "        plt.scatter(df_original_word.n, df_original_word.f1, c=cols[i], label=original_word, s=40)\n",
    "    plt.legend(loc='lower right')\n",
    "#plot_performance_by_number_of_examples()"
   ]
  },
  {
   "cell_type": "code",
   "execution_count": 40,
   "metadata": {
    "collapsed": false
   },
   "outputs": [],
   "source": [
    "def plot_performance_by_number_of_examples_without_in():\n",
    "    df_without_in = df[df.original_word != 'in']\n",
    "    print(np.corrcoef(df_without_in[df_without_in.f1 > 0].n, df_without_in[df_without_in.f1 > 0].f1))\n",
    "    plt.figure(figsize=(12,9))\n",
    "    cols = ['red', 'blue', 'green', 'magenta', 'yellow', 'pink', 'cyan', 'brown', 'gray', 'black']\n",
    "    for i, original_word in enumerate(target_data['original_word_code']['names']):\n",
    "        if original_word == 'in':\n",
    "            continue\n",
    "        df_original_word = df_without_in[(df_without_in.f1 > 0) & (df_without_in.original_word == original_word)]\n",
    "        plt.scatter(df_original_word.n, df_original_word.f1, c=cols[i], label=original_word, s=40)\n",
    "    plt.legend(loc='lower right')\n",
    "#plot_performance_by_number_of_examples_without_in()"
   ]
  },
  {
   "cell_type": "markdown",
   "metadata": {},
   "source": [
    "Sizes of things\n",
    "========"
   ]
  },
  {
   "cell_type": "code",
   "execution_count": 41,
   "metadata": {
    "collapsed": false
   },
   "outputs": [],
   "source": [
    "train_size = 59972006\n",
    "validation_size = 999532\n",
    "test_size = 999552"
   ]
  },
  {
   "cell_type": "code",
   "execution_count": 42,
   "metadata": {
    "collapsed": false
   },
   "outputs": [
    {
     "name": "stdout",
     "output_type": "stream",
     "text": [
      "  preposition       n\n",
      "0          at   94994\n",
      "1          by   94946\n",
      "2         for   97386\n",
      "3        from   90432\n",
      "4          in  194416\n",
      "5          of  112102\n",
      "6          on  108748\n",
      "7          to  113168\n",
      "8        with   93360\n",
      "\\begin{tabular}{lr}\n",
      "\\toprule\n",
      "preposition &       n \\\\\n",
      "\\midrule\n",
      "         at &   94994 \\\\\n",
      "         by &   94946 \\\\\n",
      "        for &   97386 \\\\\n",
      "       from &   90432 \\\\\n",
      "         in &  194416 \\\\\n",
      "         of &  112102 \\\\\n",
      "         on &  108748 \\\\\n",
      "         to &  113168 \\\\\n",
      "       with &   93360 \\\\\n",
      "\\bottomrule\n",
      "\\end{tabular}\n",
      "\n"
     ]
    }
   ],
   "source": [
    "def sizes():\n",
    "    df_sizes = pd.DataFrame({\n",
    "        'preposition': target_data['original_word_code']['names'],\n",
    "        'n': np.bincount(model_data.target)\n",
    "        })\n",
    "    df = df_sizes[['preposition', 'n']]\n",
    "    print(df)\n",
    "    print(df.to_latex(index=False))\n",
    "sizes()"
   ]
  },
  {
   "cell_type": "code",
   "execution_count": 43,
   "metadata": {
    "collapsed": false
   },
   "outputs": [
    {
     "name": "stdout",
     "output_type": "stream",
     "text": [
      "[ 0.033  0.046  0.072  0.036  0.17   0.32   0.051  0.215  0.056]\n"
     ]
    }
   ],
   "source": [
    "google_n_gram_pcts = np.array([.3015, .4219, .6588, .3345, 1.559, 2.939, .4719, 1.976, .516])\n",
    "normalized_google_n_gram_pcts = google_n_gram_pcts / google_n_gram_pcts.sum()\n",
    "print(normalized_google_n_gram_pcts)"
   ]
  },
  {
   "cell_type": "code",
   "execution_count": 44,
   "metadata": {
    "collapsed": false
   },
   "outputs": [],
   "source": [
    "#df_convnet = pd.read_csv('models/keras/preposition/convnet/20a7a6b088ee11e5b2b374d435ed6f3a/val_acc.csv')\n",
    "#df_lstm = pd.read_csv('models/keras/preposition/lstm/b7fb442a677b11e59dd822000a4389ba/val_acc.csv')"
   ]
  },
  {
   "cell_type": "code",
   "execution_count": 45,
   "metadata": {
    "collapsed": false
   },
   "outputs": [],
   "source": [
    "# plt.figure(figsize=(15,12))\n",
    "# plt.scatter(range(1, len(df_convnet)+1), df_convnet.ix[:, 0], alpha=0.75, label='ConvNet', c='red')\n",
    "# plt.scatter(range(1, len(df_lstm)+1), df_lstm.ix[:, 0], alpha=0.75, label='LSTM', c='green')\n",
    "# plt.xlabel('Epoch')\n",
    "# plt.ylabel('Accuracy')\n",
    "# plt.xlim(0, max(len(df_convnet), len(df_lstm))+1)\n",
    "# plt.legend()"
   ]
  },
  {
   "cell_type": "code",
   "execution_count": 46,
   "metadata": {
    "collapsed": false
   },
   "outputs": [
    {
     "data": {
      "image/png": "[encoded data removed]",
      "text/plain": [
       "<matplotlib.figure.Figure at 0x135c7bf10>"
      ]
     },
     "metadata": {},
     "output_type": "display_data"
    }
   ],
   "source": [
    "def plot_feature_comparison():\n",
    "    feature_comparison_csv = os.environ['HOME'] + '/proj/dissertation/projects/cnn/data/preposition/figures/preposition-feature-comparison.csv'\n",
    "    feature_comparison_df = pd.read_csv(feature_comparison_csv, sep='\\t')\n",
    "    \n",
    "    plt.figure(figsize=(12,9))\n",
    "    ax = plt.subplot(111)\n",
    "    \n",
    "    label_props = {'size': 32 }\n",
    "    legend_props = { 'size': 24 }\n",
    "    \n",
    "    plt.setp(ax.get_xticklabels(), fontsize=legend_props['size'])\n",
    "    plt.setp(ax.get_yticklabels(), fontsize=legend_props['size'])\n",
    "    \n",
    "    def rename_nonce(s):\n",
    "        return s\n",
    "        if s == 'Nonce window':\n",
    "            return 'Nonce'\n",
    "        return s\n",
    "    \n",
    "    for features in feature_comparison_df.Features.unique():\n",
    "        if '+' in features:\n",
    "            fields = features.split('+')\n",
    "            fields[0] = rename_nonce(fields[0])\n",
    "            label = fields[0] + r'$\\oplus$' + fields[1]\n",
    "        else:\n",
    "            label = rename_nonce(features)\n",
    "        df_features = feature_comparison_df[feature_comparison_df.Features == features]\n",
    "        ax.plot(df_features.Epoch, df_features.ValAcc, label=label, ls=next(linestyle), linewidth=3)\n",
    "    \n",
    "    ax.set_xlabel('Epoch', **label_props)\n",
    "    ax.set_ylabel('Accuracy', **label_props)\n",
    "    leg = ax.legend(loc='lower right', prop=legend_props)\n",
    "    leg.get_frame().set_alpha(0.8)\n",
    "    plt.savefig('figures/preposition-feature-comparison-valid.pdf')\n",
    "    \n",
    "plot_feature_comparison()"
   ]
  },
  {
   "cell_type": "code",
   "execution_count": null,
   "metadata": {
    "collapsed": true
   },
   "outputs": [],
   "source": []
  }
 ],
 "metadata": {
  "kernelspec": {
   "display_name": "Python 2",
   "language": "python",
   "name": "python2"
  },
  "language_info": {
   "codemirror_mode": {
    "name": "ipython",
    "version": 2
   },
   "file_extension": ".py",
   "mimetype": "text/x-python",
   "name": "python",
   "nbconvert_exporter": "python",
   "pygments_lexer": "ipython2",
   "version": "2.7.10"
  }
 },
 "nbformat": 4,
 "nbformat_minor": 0
}
